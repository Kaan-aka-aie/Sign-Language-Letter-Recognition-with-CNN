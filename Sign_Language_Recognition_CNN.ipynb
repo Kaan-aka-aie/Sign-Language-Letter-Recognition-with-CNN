{
 "cells": [
  {
   "cell_type": "markdown",
   "id": "fd53c2b7-07df-42ff-93cd-7fa54c74dc86",
   "metadata": {},
   "source": [
    "# Sign Language Recognition with MNIST Sign Language Dataset"
   ]
  },
  {
   "cell_type": "markdown",
   "id": "289cfd16-e3d6-4216-8c44-bb3a64fbe478",
   "metadata": {},
   "source": [
    "In this notebook, a simple Convolutional Neural Network (CNN) is constructed and trained on MNIST Sign Language Dataset [1] to recognize sign language letters. The dataset includes 27455 and 7172 rows for training and testing respectively. Each row stores a vector of 784 pixels that represent 784 gray scale pixels of the immage in a flattened fashion.\n",
    "\n",
    "[1] https://www.kaggle.com/datamunge/sign-language-mnist?select=sign_mnist_train."
   ]
  },
  {
   "cell_type": "markdown",
   "id": "4369e75c-0973-4e4f-bc0f-67f83ffa0290",
   "metadata": {
    "tags": []
   },
   "source": [
    "### Importing Required Packages"
   ]
  },
  {
   "cell_type": "code",
   "execution_count": 1,
   "id": "00e11c7c-9c90-4c48-a5b0-5004b80f8c11",
   "metadata": {
    "tags": []
   },
   "outputs": [],
   "source": [
    "import pandas as pd\n",
    "import numpy as np\n",
    "import datetime\n",
    "import matplotlib.pyplot as plt\n",
    "\n",
    "import tensorflow as tf\n",
    "from tensorflow.keras import datasets, layers, models"
   ]
  },
  {
   "cell_type": "markdown",
   "id": "artistic-spice",
   "metadata": {},
   "source": [
    "### Reading the Data"
   ]
  },
  {
   "cell_type": "code",
   "execution_count": 2,
   "id": "short-behalf",
   "metadata": {},
   "outputs": [
    {
     "data": {
      "text/html": [
       "<div>\n",
       "<style scoped>\n",
       "    .dataframe tbody tr th:only-of-type {\n",
       "        vertical-align: middle;\n",
       "    }\n",
       "\n",
       "    .dataframe tbody tr th {\n",
       "        vertical-align: top;\n",
       "    }\n",
       "\n",
       "    .dataframe thead th {\n",
       "        text-align: right;\n",
       "    }\n",
       "</style>\n",
       "<table border=\"1\" class=\"dataframe\">\n",
       "  <thead>\n",
       "    <tr style=\"text-align: right;\">\n",
       "      <th></th>\n",
       "      <th>label</th>\n",
       "      <th>pixel1</th>\n",
       "      <th>pixel2</th>\n",
       "      <th>pixel3</th>\n",
       "      <th>pixel4</th>\n",
       "      <th>pixel5</th>\n",
       "      <th>pixel6</th>\n",
       "      <th>pixel7</th>\n",
       "      <th>pixel8</th>\n",
       "      <th>pixel9</th>\n",
       "      <th>...</th>\n",
       "      <th>pixel775</th>\n",
       "      <th>pixel776</th>\n",
       "      <th>pixel777</th>\n",
       "      <th>pixel778</th>\n",
       "      <th>pixel779</th>\n",
       "      <th>pixel780</th>\n",
       "      <th>pixel781</th>\n",
       "      <th>pixel782</th>\n",
       "      <th>pixel783</th>\n",
       "      <th>pixel784</th>\n",
       "    </tr>\n",
       "  </thead>\n",
       "  <tbody>\n",
       "    <tr>\n",
       "      <th>0</th>\n",
       "      <td>3</td>\n",
       "      <td>107</td>\n",
       "      <td>118</td>\n",
       "      <td>127</td>\n",
       "      <td>134</td>\n",
       "      <td>139</td>\n",
       "      <td>143</td>\n",
       "      <td>146</td>\n",
       "      <td>150</td>\n",
       "      <td>153</td>\n",
       "      <td>...</td>\n",
       "      <td>207</td>\n",
       "      <td>207</td>\n",
       "      <td>207</td>\n",
       "      <td>207</td>\n",
       "      <td>206</td>\n",
       "      <td>206</td>\n",
       "      <td>206</td>\n",
       "      <td>204</td>\n",
       "      <td>203</td>\n",
       "      <td>202</td>\n",
       "    </tr>\n",
       "    <tr>\n",
       "      <th>1</th>\n",
       "      <td>6</td>\n",
       "      <td>155</td>\n",
       "      <td>157</td>\n",
       "      <td>156</td>\n",
       "      <td>156</td>\n",
       "      <td>156</td>\n",
       "      <td>157</td>\n",
       "      <td>156</td>\n",
       "      <td>158</td>\n",
       "      <td>158</td>\n",
       "      <td>...</td>\n",
       "      <td>69</td>\n",
       "      <td>149</td>\n",
       "      <td>128</td>\n",
       "      <td>87</td>\n",
       "      <td>94</td>\n",
       "      <td>163</td>\n",
       "      <td>175</td>\n",
       "      <td>103</td>\n",
       "      <td>135</td>\n",
       "      <td>149</td>\n",
       "    </tr>\n",
       "    <tr>\n",
       "      <th>2</th>\n",
       "      <td>2</td>\n",
       "      <td>187</td>\n",
       "      <td>188</td>\n",
       "      <td>188</td>\n",
       "      <td>187</td>\n",
       "      <td>187</td>\n",
       "      <td>186</td>\n",
       "      <td>187</td>\n",
       "      <td>188</td>\n",
       "      <td>187</td>\n",
       "      <td>...</td>\n",
       "      <td>202</td>\n",
       "      <td>201</td>\n",
       "      <td>200</td>\n",
       "      <td>199</td>\n",
       "      <td>198</td>\n",
       "      <td>199</td>\n",
       "      <td>198</td>\n",
       "      <td>195</td>\n",
       "      <td>194</td>\n",
       "      <td>195</td>\n",
       "    </tr>\n",
       "    <tr>\n",
       "      <th>3</th>\n",
       "      <td>2</td>\n",
       "      <td>211</td>\n",
       "      <td>211</td>\n",
       "      <td>212</td>\n",
       "      <td>212</td>\n",
       "      <td>211</td>\n",
       "      <td>210</td>\n",
       "      <td>211</td>\n",
       "      <td>210</td>\n",
       "      <td>210</td>\n",
       "      <td>...</td>\n",
       "      <td>235</td>\n",
       "      <td>234</td>\n",
       "      <td>233</td>\n",
       "      <td>231</td>\n",
       "      <td>230</td>\n",
       "      <td>226</td>\n",
       "      <td>225</td>\n",
       "      <td>222</td>\n",
       "      <td>229</td>\n",
       "      <td>163</td>\n",
       "    </tr>\n",
       "    <tr>\n",
       "      <th>4</th>\n",
       "      <td>13</td>\n",
       "      <td>164</td>\n",
       "      <td>167</td>\n",
       "      <td>170</td>\n",
       "      <td>172</td>\n",
       "      <td>176</td>\n",
       "      <td>179</td>\n",
       "      <td>180</td>\n",
       "      <td>184</td>\n",
       "      <td>185</td>\n",
       "      <td>...</td>\n",
       "      <td>92</td>\n",
       "      <td>105</td>\n",
       "      <td>105</td>\n",
       "      <td>108</td>\n",
       "      <td>133</td>\n",
       "      <td>163</td>\n",
       "      <td>157</td>\n",
       "      <td>163</td>\n",
       "      <td>164</td>\n",
       "      <td>179</td>\n",
       "    </tr>\n",
       "  </tbody>\n",
       "</table>\n",
       "<p>5 rows × 785 columns</p>\n",
       "</div>"
      ],
      "text/plain": [
       "   label  pixel1  pixel2  pixel3  pixel4  pixel5  pixel6  pixel7  pixel8  \\\n",
       "0      3     107     118     127     134     139     143     146     150   \n",
       "1      6     155     157     156     156     156     157     156     158   \n",
       "2      2     187     188     188     187     187     186     187     188   \n",
       "3      2     211     211     212     212     211     210     211     210   \n",
       "4     13     164     167     170     172     176     179     180     184   \n",
       "\n",
       "   pixel9  ...  pixel775  pixel776  pixel777  pixel778  pixel779  pixel780  \\\n",
       "0     153  ...       207       207       207       207       206       206   \n",
       "1     158  ...        69       149       128        87        94       163   \n",
       "2     187  ...       202       201       200       199       198       199   \n",
       "3     210  ...       235       234       233       231       230       226   \n",
       "4     185  ...        92       105       105       108       133       163   \n",
       "\n",
       "   pixel781  pixel782  pixel783  pixel784  \n",
       "0       206       204       203       202  \n",
       "1       175       103       135       149  \n",
       "2       198       195       194       195  \n",
       "3       225       222       229       163  \n",
       "4       157       163       164       179  \n",
       "\n",
       "[5 rows x 785 columns]"
      ]
     },
     "execution_count": 2,
     "metadata": {},
     "output_type": "execute_result"
    }
   ],
   "source": [
    "train_df = pd.read_csv(\"sign_mnist_train.csv\")\n",
    "train_df.head()"
   ]
  },
  {
   "cell_type": "code",
   "execution_count": 3,
   "id": "corrected-content",
   "metadata": {},
   "outputs": [
    {
     "data": {
      "text/html": [
       "<div>\n",
       "<style scoped>\n",
       "    .dataframe tbody tr th:only-of-type {\n",
       "        vertical-align: middle;\n",
       "    }\n",
       "\n",
       "    .dataframe tbody tr th {\n",
       "        vertical-align: top;\n",
       "    }\n",
       "\n",
       "    .dataframe thead th {\n",
       "        text-align: right;\n",
       "    }\n",
       "</style>\n",
       "<table border=\"1\" class=\"dataframe\">\n",
       "  <thead>\n",
       "    <tr style=\"text-align: right;\">\n",
       "      <th></th>\n",
       "      <th>label</th>\n",
       "      <th>pixel1</th>\n",
       "      <th>pixel2</th>\n",
       "      <th>pixel3</th>\n",
       "      <th>pixel4</th>\n",
       "      <th>pixel5</th>\n",
       "      <th>pixel6</th>\n",
       "      <th>pixel7</th>\n",
       "      <th>pixel8</th>\n",
       "      <th>pixel9</th>\n",
       "      <th>...</th>\n",
       "      <th>pixel775</th>\n",
       "      <th>pixel776</th>\n",
       "      <th>pixel777</th>\n",
       "      <th>pixel778</th>\n",
       "      <th>pixel779</th>\n",
       "      <th>pixel780</th>\n",
       "      <th>pixel781</th>\n",
       "      <th>pixel782</th>\n",
       "      <th>pixel783</th>\n",
       "      <th>pixel784</th>\n",
       "    </tr>\n",
       "  </thead>\n",
       "  <tbody>\n",
       "    <tr>\n",
       "      <th>0</th>\n",
       "      <td>6</td>\n",
       "      <td>149</td>\n",
       "      <td>149</td>\n",
       "      <td>150</td>\n",
       "      <td>150</td>\n",
       "      <td>150</td>\n",
       "      <td>151</td>\n",
       "      <td>151</td>\n",
       "      <td>150</td>\n",
       "      <td>151</td>\n",
       "      <td>...</td>\n",
       "      <td>138</td>\n",
       "      <td>148</td>\n",
       "      <td>127</td>\n",
       "      <td>89</td>\n",
       "      <td>82</td>\n",
       "      <td>96</td>\n",
       "      <td>106</td>\n",
       "      <td>112</td>\n",
       "      <td>120</td>\n",
       "      <td>107</td>\n",
       "    </tr>\n",
       "    <tr>\n",
       "      <th>1</th>\n",
       "      <td>5</td>\n",
       "      <td>126</td>\n",
       "      <td>128</td>\n",
       "      <td>131</td>\n",
       "      <td>132</td>\n",
       "      <td>133</td>\n",
       "      <td>134</td>\n",
       "      <td>135</td>\n",
       "      <td>135</td>\n",
       "      <td>136</td>\n",
       "      <td>...</td>\n",
       "      <td>47</td>\n",
       "      <td>104</td>\n",
       "      <td>194</td>\n",
       "      <td>183</td>\n",
       "      <td>186</td>\n",
       "      <td>184</td>\n",
       "      <td>184</td>\n",
       "      <td>184</td>\n",
       "      <td>182</td>\n",
       "      <td>180</td>\n",
       "    </tr>\n",
       "    <tr>\n",
       "      <th>2</th>\n",
       "      <td>10</td>\n",
       "      <td>85</td>\n",
       "      <td>88</td>\n",
       "      <td>92</td>\n",
       "      <td>96</td>\n",
       "      <td>105</td>\n",
       "      <td>123</td>\n",
       "      <td>135</td>\n",
       "      <td>143</td>\n",
       "      <td>147</td>\n",
       "      <td>...</td>\n",
       "      <td>68</td>\n",
       "      <td>166</td>\n",
       "      <td>242</td>\n",
       "      <td>227</td>\n",
       "      <td>230</td>\n",
       "      <td>227</td>\n",
       "      <td>226</td>\n",
       "      <td>225</td>\n",
       "      <td>224</td>\n",
       "      <td>222</td>\n",
       "    </tr>\n",
       "    <tr>\n",
       "      <th>3</th>\n",
       "      <td>0</td>\n",
       "      <td>203</td>\n",
       "      <td>205</td>\n",
       "      <td>207</td>\n",
       "      <td>206</td>\n",
       "      <td>207</td>\n",
       "      <td>209</td>\n",
       "      <td>210</td>\n",
       "      <td>209</td>\n",
       "      <td>210</td>\n",
       "      <td>...</td>\n",
       "      <td>154</td>\n",
       "      <td>248</td>\n",
       "      <td>247</td>\n",
       "      <td>248</td>\n",
       "      <td>253</td>\n",
       "      <td>236</td>\n",
       "      <td>230</td>\n",
       "      <td>240</td>\n",
       "      <td>253</td>\n",
       "      <td>255</td>\n",
       "    </tr>\n",
       "    <tr>\n",
       "      <th>4</th>\n",
       "      <td>3</td>\n",
       "      <td>188</td>\n",
       "      <td>191</td>\n",
       "      <td>193</td>\n",
       "      <td>195</td>\n",
       "      <td>199</td>\n",
       "      <td>201</td>\n",
       "      <td>202</td>\n",
       "      <td>203</td>\n",
       "      <td>203</td>\n",
       "      <td>...</td>\n",
       "      <td>26</td>\n",
       "      <td>40</td>\n",
       "      <td>64</td>\n",
       "      <td>48</td>\n",
       "      <td>29</td>\n",
       "      <td>46</td>\n",
       "      <td>49</td>\n",
       "      <td>46</td>\n",
       "      <td>46</td>\n",
       "      <td>53</td>\n",
       "    </tr>\n",
       "  </tbody>\n",
       "</table>\n",
       "<p>5 rows × 785 columns</p>\n",
       "</div>"
      ],
      "text/plain": [
       "   label  pixel1  pixel2  pixel3  pixel4  pixel5  pixel6  pixel7  pixel8  \\\n",
       "0      6     149     149     150     150     150     151     151     150   \n",
       "1      5     126     128     131     132     133     134     135     135   \n",
       "2     10      85      88      92      96     105     123     135     143   \n",
       "3      0     203     205     207     206     207     209     210     209   \n",
       "4      3     188     191     193     195     199     201     202     203   \n",
       "\n",
       "   pixel9  ...  pixel775  pixel776  pixel777  pixel778  pixel779  pixel780  \\\n",
       "0     151  ...       138       148       127        89        82        96   \n",
       "1     136  ...        47       104       194       183       186       184   \n",
       "2     147  ...        68       166       242       227       230       227   \n",
       "3     210  ...       154       248       247       248       253       236   \n",
       "4     203  ...        26        40        64        48        29        46   \n",
       "\n",
       "   pixel781  pixel782  pixel783  pixel784  \n",
       "0       106       112       120       107  \n",
       "1       184       184       182       180  \n",
       "2       226       225       224       222  \n",
       "3       230       240       253       255  \n",
       "4        49        46        46        53  \n",
       "\n",
       "[5 rows x 785 columns]"
      ]
     },
     "execution_count": 3,
     "metadata": {},
     "output_type": "execute_result"
    }
   ],
   "source": [
    "test_df = pd.read_csv(\"sign_mnist_test.csv\")\n",
    "test_df.head()"
   ]
  },
  {
   "cell_type": "markdown",
   "id": "yellow-compromise",
   "metadata": {},
   "source": [
    "### Preprocessing the Data"
   ]
  },
  {
   "cell_type": "markdown",
   "id": "f28c2b7d-3142-4cba-a112-90fd2d1b6b38",
   "metadata": {},
   "source": [
    "Labels in the dataset are not continous. There is a jump from 8 to 10. Tensorflow needs labels without jumps. In the below cell labels of images are reassigned in order to be compatible with a Sequential Tensorflow model.  "
   ]
  },
  {
   "cell_type": "code",
   "execution_count": 4,
   "id": "altered-pension",
   "metadata": {},
   "outputs": [],
   "source": [
    "train_df.loc[train_df[\"label\"] >= 10,[\"label\"]] -= 1\n",
    "test_df.loc[test_df[\"label\"] >= 10,[\"label\"]] -= 1"
   ]
  },
  {
   "cell_type": "markdown",
   "id": "458dcf56-c263-4063-969f-d4c38f038afd",
   "metadata": {},
   "source": [
    "In the below cell, train and test data are shuffled simultaneously to avoid class imbalances in different regions of the training set."
   ]
  },
  {
   "cell_type": "code",
   "execution_count": 5,
   "id": "happy-cleaner",
   "metadata": {},
   "outputs": [],
   "source": [
    "train_df = train_df.sample(frac=1)\n",
    "test_df = test_df.sample(frac=1)"
   ]
  },
  {
   "cell_type": "markdown",
   "id": "entitled-camel",
   "metadata": {},
   "source": [
    "### Class Distribution"
   ]
  },
  {
   "cell_type": "markdown",
   "id": "f863ee7e-78b5-4752-aa13-69d5534edfeb",
   "metadata": {},
   "source": [
    "Here we check the histogram to get an idea about the class distribution."
   ]
  },
  {
   "cell_type": "code",
   "execution_count": 6,
   "id": "corrected-adams",
   "metadata": {},
   "outputs": [
    {
     "data": {
      "image/png": "[encoded data removed]",
      "text/plain": [
       "<Figure size 432x288 with 1 Axes>"
      ]
     },
     "metadata": {
      "needs_background": "light"
     },
     "output_type": "display_data"
    }
   ],
   "source": [
    "histo = plt.hist(train_df[\"label\"],bins=24)\n",
    "plt.show()"
   ]
  },
  {
   "cell_type": "code",
   "execution_count": 7,
   "id": "compressed-banner",
   "metadata": {},
   "outputs": [
    {
     "data": {
      "text/plain": [
       "(1143.9583333333333, 81.99516203546537, 1294.0, 957.0)"
      ]
     },
     "execution_count": 7,
     "metadata": {},
     "output_type": "execute_result"
    }
   ],
   "source": [
    "histo[0].mean(), histo[0].std(), histo[0].max(), histo[0].min()"
   ]
  },
  {
   "cell_type": "markdown",
   "id": "d2feba80-8419-44d7-bb60-9ac0a2d9f835",
   "metadata": {},
   "source": [
    "### Chi-Square Test to Check Uniformity of the Class Distribution"
   ]
  },
  {
   "cell_type": "markdown",
   "id": "14d53011-31ce-4bdc-9eba-24020360fcd3",
   "metadata": {},
   "source": [
    "#### To see if the uniformity of the class distribution is *STATISTICALLY SIGNIFICANT* we apply a Chi-Square test on the data."
   ]
  },
  {
   "cell_type": "markdown",
   "id": "f558000a-acea-49c2-8fa7-3b3626d98024",
   "metadata": {},
   "source": [
    "H0: The class distribution in the dataset is uniform. (i.e. uniformity is statistically significant.)\n",
    "\n",
    "Ha: The class distribution in the dataset is not uniform. (i.e. uniformity is not statistically significant.)"
   ]
  },
  {
   "cell_type": "code",
   "execution_count": 8,
   "id": "d192ddab-7401-4999-a50c-1900864d1e3f",
   "metadata": {},
   "outputs": [
    {
     "name": "stdout",
     "output_type": "stream",
     "text": [
      "Chi_0: Power_divergenceResult(statistic=141.05142961209253, pvalue=5.915437888204953e-19)\n",
      "Chi_0025_n: 27840.563279483347\n"
     ]
    }
   ],
   "source": [
    "from scipy.stats import chisquare, chi2\n",
    "\n",
    "unique_labels, counts = np.unique(train_df[\"label\"], return_counts = True)\n",
    "expected_freq = train_df[\"label\"].shape[0]/unique_labels.shape[0]\n",
    "\n",
    "chi_0 = chisquare(counts,expected_freq)\n",
    "chi_0025_n = chi2.ppf(1 - .05, df = train_df.shape[0] - 1)\n",
    "print(\"Chi_0:\", chi_0)\n",
    "print(\"Chi_0025_n:\", chi_0025_n) "
   ]
  },
  {
   "cell_type": "markdown",
   "id": "56d5644d-a058-487b-8a21-f76965dd3579",
   "metadata": {},
   "source": [
    "Since chi_0 is smaller than chi_0025_n we failed to reject our null hypothesis. The class distribution in the dataset is uniform with *0.95* confidence."
   ]
  },
  {
   "cell_type": "markdown",
   "id": "baa83859-b69d-41e6-9437-ad765b626ac9",
   "metadata": {},
   "source": [
    "### MinMax Scaling"
   ]
  },
  {
   "cell_type": "code",
   "execution_count": 9,
   "id": "funny-karen",
   "metadata": {},
   "outputs": [],
   "source": [
    "from sklearn.preprocessing import MinMaxScaler\n",
    "scaler = MinMaxScaler()\n",
    "x_train = scaler.fit_transform(train_df.iloc[:,1:])\n",
    "x_train = x_train.reshape(train_df.shape[0],28,28,1)\n",
    "y_train = train_df[\"label\"].to_numpy()"
   ]
  },
  {
   "cell_type": "code",
   "execution_count": 10,
   "id": "opposite-poverty",
   "metadata": {},
   "outputs": [],
   "source": [
    "x_test = scaler.fit_transform(test_df.iloc[:,1:])\n",
    "x_test = x_test.reshape(test_df.shape[0],28,28,1)\n",
    "y_test = test_df[\"label\"].to_numpy()"
   ]
  },
  {
   "cell_type": "markdown",
   "id": "agricultural-yield",
   "metadata": {},
   "source": [
    "### Model"
   ]
  },
  {
   "cell_type": "code",
   "execution_count": 11,
   "id": "streaming-butterfly",
   "metadata": {},
   "outputs": [
    {
     "name": "stdout",
     "output_type": "stream",
     "text": [
      "Model: \"sequential\"\n",
      "_________________________________________________________________\n",
      "Layer (type)                 Output Shape              Param #   \n",
      "=================================================================\n",
      "conv2d (Conv2D)              (None, 26, 26, 32)        320       \n",
      "_________________________________________________________________\n",
      "max_pooling2d (MaxPooling2D) (None, 13, 13, 32)        0         \n",
      "_________________________________________________________________\n",
      "conv2d_1 (Conv2D)            (None, 11, 11, 64)        18496     \n",
      "_________________________________________________________________\n",
      "max_pooling2d_1 (MaxPooling2 (None, 5, 5, 64)          0         \n",
      "_________________________________________________________________\n",
      "conv2d_2 (Conv2D)            (None, 3, 3, 64)          36928     \n",
      "_________________________________________________________________\n",
      "max_pooling2d_2 (MaxPooling2 (None, 1, 1, 64)          0         \n",
      "_________________________________________________________________\n",
      "flatten (Flatten)            (None, 64)                0         \n",
      "_________________________________________________________________\n",
      "dense (Dense)                (None, 64)                4160      \n",
      "_________________________________________________________________\n",
      "dense_1 (Dense)              (None, 24)                1560      \n",
      "=================================================================\n",
      "Total params: 61,464\n",
      "Trainable params: 61,464\n",
      "Non-trainable params: 0\n",
      "_________________________________________________________________\n"
     ]
    }
   ],
   "source": [
    "model = models.Sequential()\n",
    "model.add(layers.Conv2D(32, (3, 3), activation='relu', input_shape=(28, 28, 1)))\n",
    "model.add(layers.MaxPooling2D((2, 2)))\n",
    "model.add(layers.Conv2D(64, (3, 3), activation='relu'))\n",
    "model.add(layers.MaxPooling2D((2, 2)))\n",
    "model.add(layers.Conv2D(64, (3, 3), activation='relu'))\n",
    "model.add(layers.MaxPooling2D((2, 2)))\n",
    "model.add(layers.Flatten())\n",
    "#model.add(layers.Dense(64, activation='relu'))\n",
    "#model.add(layers.Dense(64, activation='relu'))\n",
    "#model.add(layers.Dense(64, activation='relu'))\n",
    "model.add(layers.Dense(64, activation='relu'))\n",
    "model.add(layers.Dense(24))\n",
    "model.summary()"
   ]
  },
  {
   "cell_type": "markdown",
   "id": "e493faca-bbb9-4c2b-8715-eba671660c40",
   "metadata": {},
   "source": [
    "### Training"
   ]
  },
  {
   "cell_type": "code",
   "execution_count": 12,
   "id": "signed-manufacturer",
   "metadata": {},
   "outputs": [
    {
     "name": "stdout",
     "output_type": "stream",
     "text": [
      "Epoch 1/10\n",
      "858/858 [==============================] - 19s 21ms/step - loss: 1.3790 - accuracy: 0.5733 - val_loss: 0.7797 - val_accuracy: 0.7337\n",
      "Epoch 2/10\n",
      "858/858 [==============================] - 19s 22ms/step - loss: 0.2851 - accuracy: 0.9092 - val_loss: 0.7030 - val_accuracy: 0.7931\n",
      "Epoch 3/10\n",
      "858/858 [==============================] - 18s 21ms/step - loss: 0.0872 - accuracy: 0.9777 - val_loss: 0.6893 - val_accuracy: 0.8120\n",
      "Epoch 4/10\n",
      "858/858 [==============================] - 18s 21ms/step - loss: 0.0358 - accuracy: 0.9921 - val_loss: 0.6311 - val_accuracy: 0.8572\n",
      "Epoch 5/10\n",
      "858/858 [==============================] - 17s 20ms/step - loss: 0.0264 - accuracy: 0.9928 - val_loss: 0.6250 - val_accuracy: 0.8593\n",
      "Epoch 6/10\n",
      "858/858 [==============================] - 17s 20ms/step - loss: 0.0105 - accuracy: 0.9979 - val_loss: 0.6197 - val_accuracy: 0.8696\n",
      "Epoch 7/10\n",
      "858/858 [==============================] - 17s 20ms/step - loss: 0.0214 - accuracy: 0.9933 - val_loss: 0.5955 - val_accuracy: 0.8781\n",
      "Epoch 8/10\n",
      "858/858 [==============================] - 17s 20ms/step - loss: 0.0087 - accuracy: 0.9976 - val_loss: 0.5989 - val_accuracy: 0.8770\n",
      "Epoch 9/10\n",
      "858/858 [==============================] - 17s 20ms/step - loss: 9.8345e-04 - accuracy: 0.9999 - val_loss: 0.6005 - val_accuracy: 0.8799\n",
      "Epoch 10/10\n",
      "858/858 [==============================] - 17s 20ms/step - loss: 0.0332 - accuracy: 0.9903 - val_loss: 0.8466 - val_accuracy: 0.8316\n"
     ]
    }
   ],
   "source": [
    "model.compile(optimizer='adam',\n",
    "              loss=tf.keras.losses.SparseCategoricalCrossentropy(from_logits=True),\n",
    "              metrics=['accuracy'])\n",
    "\n",
    "history = model.fit(x_train, y_train, epochs=10, \n",
    "                    validation_data=(x_test, y_test))"
   ]
  },
  {
   "cell_type": "markdown",
   "id": "6af50603-eaed-4e02-9a0f-e7b0364fea9d",
   "metadata": {},
   "source": [
    "### Accuracy (Validation Accuracy) vs Epoch Plot"
   ]
  },
  {
   "cell_type": "code",
   "execution_count": 13,
   "id": "promising-daily",
   "metadata": {},
   "outputs": [
    {
     "name": "stdout",
     "output_type": "stream",
     "text": [
      "225/225 - 1s - loss: 0.8466 - accuracy: 0.8316\n"
     ]
    },
    {
     "data": {
      "image/png": "[encoded data removed]",
      "text/plain": [
       "<Figure size 432x288 with 1 Axes>"
      ]
     },
     "metadata": {
      "needs_background": "light"
     },
     "output_type": "display_data"
    }
   ],
   "source": [
    "plt.plot(history.history['accuracy'], label='accuracy')\n",
    "plt.plot(history.history['val_accuracy'], label = 'val_accuracy')\n",
    "plt.xlabel('Epoch')\n",
    "plt.ylabel('Accuracy')\n",
    "plt.ylim([0.5, 1])\n",
    "plt.legend(loc='lower right')\n",
    "\n",
    "test_loss, test_acc = model.evaluate(x_test,  y_test, verbose=2)"
   ]
  },
  {
   "cell_type": "markdown",
   "id": "04409db8-70f5-4835-90a5-53bc8854e280",
   "metadata": {},
   "source": [
    " Looks like we have reached a plateau. Lets go for another 10 epochs on training to see if that is the case."
   ]
  },
  {
   "cell_type": "code",
   "execution_count": 14,
   "id": "5bdaafb2-ee65-4cb0-87ce-6d8412c137d3",
   "metadata": {},
   "outputs": [
    {
     "name": "stdout",
     "output_type": "stream",
     "text": [
      "Epoch 1/10\n",
      "858/858 [==============================] - 18s 21ms/step - loss: 0.0151 - accuracy: 0.9957 - val_loss: 0.5553 - val_accuracy: 0.8914\n",
      "Epoch 2/10\n",
      "858/858 [==============================] - 18s 21ms/step - loss: 7.5446e-04 - accuracy: 0.9999 - val_loss: 0.6119 - val_accuracy: 0.8915\n",
      "Epoch 3/10\n",
      "858/858 [==============================] - 18s 21ms/step - loss: 0.0188 - accuracy: 0.9945 - val_loss: 0.6065 - val_accuracy: 0.8776\n",
      "Epoch 4/10\n",
      "858/858 [==============================] - 18s 21ms/step - loss: 0.0051 - accuracy: 0.9985 - val_loss: 0.9709 - val_accuracy: 0.8210\n",
      "Epoch 5/10\n",
      "858/858 [==============================] - 18s 21ms/step - loss: 0.0069 - accuracy: 0.9979 - val_loss: 0.6118 - val_accuracy: 0.8836\n",
      "Epoch 6/10\n",
      "858/858 [==============================] - 18s 21ms/step - loss: 1.9325e-04 - accuracy: 1.0000 - val_loss: 0.6168 - val_accuracy: 0.8893\n",
      "Epoch 7/10\n",
      "858/858 [==============================] - 18s 21ms/step - loss: 1.0270e-04 - accuracy: 1.0000 - val_loss: 0.6604 - val_accuracy: 0.8875\n",
      "Epoch 8/10\n",
      "858/858 [==============================] - 18s 21ms/step - loss: 6.1691e-05 - accuracy: 1.0000 - val_loss: 0.6661 - val_accuracy: 0.8912\n",
      "Epoch 9/10\n",
      "858/858 [==============================] - 18s 21ms/step - loss: 4.0958e-05 - accuracy: 1.0000 - val_loss: 0.6790 - val_accuracy: 0.8900\n",
      "Epoch 10/10\n",
      "858/858 [==============================] - 18s 21ms/step - loss: 2.6070e-05 - accuracy: 1.0000 - val_loss: 0.6886 - val_accuracy: 0.8908\n"
     ]
    }
   ],
   "source": [
    "model.compile(optimizer='adam',\n",
    "              loss=tf.keras.losses.SparseCategoricalCrossentropy(from_logits=True),\n",
    "              metrics=['accuracy'])\n",
    "\n",
    "history = model.fit(x_train, y_train, epochs=10, \n",
    "                    validation_data=(x_test, y_test))"
   ]
  },
  {
   "cell_type": "code",
   "execution_count": 15,
   "id": "b52e3afc-be2a-40c3-9f1b-31004fc122e3",
   "metadata": {},
   "outputs": [
    {
     "name": "stdout",
     "output_type": "stream",
     "text": [
      "225/225 - 1s - loss: 0.6886 - accuracy: 0.8908\n"
     ]
    },
    {
     "data": {
      "image/png": "[encoded data removed]",
      "text/plain": [
       "<Figure size 432x288 with 1 Axes>"
      ]
     },
     "metadata": {
      "needs_background": "light"
     },
     "output_type": "display_data"
    }
   ],
   "source": [
    "plt.plot(history.history['accuracy'], label='accuracy')\n",
    "plt.plot(history.history['val_accuracy'], label = 'val_accuracy')\n",
    "plt.xlabel('Epoch')\n",
    "plt.ylabel('Accuracy')\n",
    "plt.ylim([0.5, 1])\n",
    "plt.legend(loc='lower right')\n",
    "\n",
    "test_loss, test_acc = model.evaluate(x_test,  y_test, verbose=2)"
   ]
  },
  {
   "cell_type": "markdown",
   "id": "42dde1f3-8ab6-48f8-9f8c-ddf034b27752",
   "metadata": {},
   "source": [
    "As we can see neither validation accuracy nor training accuracy is improving. This may indicate that we need a more complex model to further development. "
   ]
  },
  {
   "cell_type": "markdown",
   "id": "d6570a2b-2ee1-4e23-89b8-d5a85dcc7f84",
   "metadata": {},
   "source": [
    "## A cell for demonstrating a prediction and the actual image using PIL for displaying the image."
   ]
  },
  {
   "cell_type": "code",
   "execution_count": 16,
   "id": "finished-hughes",
   "metadata": {},
   "outputs": [
    {
     "name": "stdout",
     "output_type": "stream",
     "text": [
      "--------------\n",
      "The model predicted this instance as label 16\n",
      "--------------\n",
      "Where its label is 19\n"
     ]
    },
    {
     "data": {
      "image/png": "[encoded data removed]",
      "text/plain": [
       "<Figure size 432x288 with 1 Axes>"
      ]
     },
     "metadata": {
      "needs_background": "light"
     },
     "output_type": "display_data"
    }
   ],
   "source": [
    "import matplotlib.pyplot as plt\n",
    "from PIL import Image\n",
    "from matplotlib.pyplot import imshow\n",
    "instance = 689\n",
    "\n",
    "imshow(np.asarray(x_test[instance].reshape(28,28)))\n",
    "print(\"--------------\")\n",
    "print(\"The model predicted this instance as label\", model.predict(x_test[instance:instance+1])[0].argmax())\n",
    "print(\"--------------\")\n",
    "print(\"Where its label is\", y_test[instance])"
   ]
  },
  {
   "cell_type": "markdown",
   "id": "941c570c-acb8-4726-a05f-f623a12a8d52",
   "metadata": {},
   "source": [
    "## Confusion Matrix and Different Accuracy Parameters"
   ]
  },
  {
   "cell_type": "code",
   "execution_count": 17,
   "id": "fatty-atlanta",
   "metadata": {},
   "outputs": [
    {
     "name": "stdout",
     "output_type": "stream",
     "text": [
      "              precision    recall  f1-score   support\n",
      "\n",
      "           0       0.92      1.00      0.96       331\n",
      "           1       1.00      0.90      0.95       432\n",
      "           2       0.93      1.00      0.97       310\n",
      "           3       1.00      0.92      0.96       245\n",
      "           4       0.94      0.99      0.96       498\n",
      "           5       0.83      1.00      0.91       247\n",
      "           6       0.82      0.69      0.75       348\n",
      "           7       0.90      0.93      0.91       436\n",
      "           8       0.93      0.99      0.96       288\n",
      "           9       0.93      0.93      0.93       331\n",
      "          10       0.84      0.99      0.91       209\n",
      "          11       0.89      0.87      0.88       394\n",
      "          12       0.88      0.77      0.82       291\n",
      "          13       0.95      0.84      0.89       246\n",
      "          14       0.92      0.89      0.90       347\n",
      "          15       0.71      1.00      0.83       164\n",
      "          16       0.75      0.42      0.54       144\n",
      "          17       0.78      0.83      0.81       246\n",
      "          18       0.69      0.65      0.67       248\n",
      "          19       0.97      0.88      0.92       266\n",
      "          20       0.87      0.98      0.92       346\n",
      "          21       0.79      1.00      0.88       206\n",
      "          22       0.91      0.84      0.87       267\n",
      "          23       0.99      0.82      0.90       332\n",
      "\n",
      "    accuracy                           0.89      7172\n",
      "   macro avg       0.88      0.88      0.87      7172\n",
      "weighted avg       0.89      0.89      0.89      7172\n",
      "\n"
     ]
    }
   ],
   "source": [
    "from sklearn.metrics import classification_report\n",
    "pred = [x.argmax() for x in model.predict(x_test)]\n",
    "print(classification_report(y_test, pred))"
   ]
  }
 ],
 "metadata": {
  "kernelspec": {
   "display_name": "Python 3",
   "language": "python",
   "name": "python3"
  },
  "language_info": {
   "codemirror_mode": {
    "name": "ipython",
    "version": 3
   },
   "file_extension": ".py",
   "mimetype": "text/x-python",
   "name": "python",
   "nbconvert_exporter": "python",
   "pygments_lexer": "ipython3",
   "version": "3.9.1"
  }
 },
 "nbformat": 4,
 "nbformat_minor": 5
}
